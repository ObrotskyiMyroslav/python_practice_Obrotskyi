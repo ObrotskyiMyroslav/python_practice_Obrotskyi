{
  "cells": [
    {
      "cell_type": "markdown",
      "metadata": {
        "id": "1bRxWHr5e8kt"
      },
      "source": [
        "# **Курс \"Програмування на мові Python\"**"
      ]
    },
    {
      "cell_type": "markdown",
      "metadata": {
        "id": "buZUwUgFe-kx"
      },
      "source": [
        "## **Практичні зайняття №4-5**\n",
        "### Тема: \"Перші програми на Python. Введення та виведення даних. Інструкція if. Цикли. Робота зі списками\""
      ]
    },
    {
      "cell_type": "markdown",
      "metadata": {
        "id": "PUkxEn8EfAUe"
      },
      "source": [
        "### **Завдання 1 (1,5 бали)**\n",
        "\n"
      ]
    },
    {
      "cell_type": "markdown",
      "metadata": {
        "id": "M7jjwxAvfKa2"
      },
      "source": [
        "**Написати програму введення та виведення даних про одержувача листа (посилки) за стандартами Укрпошти.**\n",
        "\n",
        "1. Усі запити на введення даних повинні супроводжуватись відповідними підказками-поясненнями (бажано англійською мовою).\n",
        "\n",
        "2. Дані мають виводитись так, як показано нижче (з урахуванням кількості рядків та послідовності даних у кожному з них).\n",
        "\n",
        "3. Дані, виділені жирним шрифтом, повинні вводитись із клавіатури. Всього має бути 9 окремих команд введення даних\n",
        "\n",
        "4. Назви змінних повинні бути інформативними та оформленими відповідно до правил іменування змінних\n",
        "\n",
        "5. Додати 2 коментарі, що вказують на блоки введення та виведення даних.\n",
        "\n",
        "***Формат виведення даних:***\n",
        "\n",
        "(1) **Ім'я** (2) **Прізвище**\n",
        "\n",
        "(3) **Номер телефону**\n",
        "\n",
        "Str. (4) **Назва вулиці** (5) **Номер будинку**, ap. (6) **Номер квартири**, (7) **Місто**\n",
        "\n",
        "(8) **Індекс**\n",
        "\n",
        "(9) **Країна**\n",
        "\n",
        "***Приклад виведення:***\n",
        "\n",
        "*Lucas Diallo*\n",
        "\n",
        "*3221234567*\n",
        "\n",
        "*Str. Longue 3, ap. 5, Bruxelles*\n",
        "\n",
        "*1020*\n",
        "\n",
        "*Belgium*"
      ]
    },
    {
      "cell_type": "markdown",
      "metadata": {},
      "source": []
    },
    {
      "cell_type": "code",
      "execution_count": 1,
      "metadata": {
        "id": "hEJG5C3_fJk9"
      },
      "outputs": [],
      "source": [
        "name = input(\"Enter your name \")\n",
        "surname = input(\"Enter your surname \") \n",
        "number = input(\"Enter your phone number \")\n",
        "street = input(\"Enter name of street where do you live \")\n",
        "building = input(\"Enter your house number \")\n",
        "flat = input(\"Enter your apartment number \")\n",
        "city = input(\"Enter name of your city \")\n",
        "index = input(\"Enter index \")\n",
        "country = input(\"Enter the country in which you live \")\n",
        "print(name, surname)\n",
        "print(number)\n",
        "print(\"Str.\", street, building+\", ap.\", flat, city)\n",
        "print(index)\n",
        "print(country)"
      ]
    },
    {
      "cell_type": "markdown",
      "metadata": {
        "id": "WmnpKrmPf689"
      },
      "source": [
        "### **Завдання 2 (1,5 бали)**"
      ]
    },
    {
      "cell_type": "markdown",
      "metadata": {
        "id": "4n4p_pz7gFKM"
      },
      "source": [
        "Таблиця містить магнітуду землетрусів за шкалою Ріхтера та дескриптори, що їй відповідають.\n",
        "\n",
        "Магнітуда | Дескриптор\n",
        "--- | ---\n",
        "Менше, ніж 2 | Micro\n",
        "Від 2 до менше ніж 3 | Very minor\n",
        "Від 3 до менше ніж 4 | Minor\n",
        "Від 4 до менше ніж 5 | Light\n",
        "Від 5 до менше ніж 6 | Moderate\n",
        "Від 6 до менше ніж 7 | Strong\n",
        "Від 7 до менше ніж 8 | Major\n",
        "Від 8 до менше ніж 10 | Great\n",
        "10 та більше | Meteoric\n",
        "\n",
        "Напишіть програму, яка буде зчитувати магнітуду, введену користувачем, та виводити відповідний дескриптор як частину змістовного повідомлення. Наприклад, якщо користувач вводить 5.5, ваша програма повинна показати, що землетрус з такою магнітудою є помірним (moderate)."
      ]
    },
    {
      "cell_type": "code",
      "execution_count": 2,
      "metadata": {},
      "outputs": [
        {
          "ename": "ValueError",
          "evalue": "could not convert string to float: 'Escape'",
          "output_type": "error",
          "traceback": [
            "\u001b[1;31m---------------------------------------------------------------------------\u001b[0m",
            "\u001b[1;31mValueError\u001b[0m                                Traceback (most recent call last)",
            "Cell \u001b[1;32mIn [2], line 1\u001b[0m\n\u001b[1;32m----> 1\u001b[0m magnituda \u001b[39m=\u001b[39m \u001b[39mfloat\u001b[39;49m(\u001b[39minput\u001b[39;49m(\u001b[39m\"\u001b[39;49m\u001b[39mEnter the magnitude \u001b[39;49m\u001b[39m\"\u001b[39;49m))\n\u001b[0;32m      2\u001b[0m \u001b[39mif\u001b[39;00m magnituda \u001b[39m<\u001b[39m \u001b[39m2\u001b[39m:\n\u001b[0;32m      3\u001b[0m     \u001b[39mprint\u001b[39m(\u001b[39m\"\u001b[39m\u001b[39mMicro\u001b[39m\u001b[39m\"\u001b[39m)\n",
            "\u001b[1;31mValueError\u001b[0m: could not convert string to float: 'Escape'"
          ]
        }
      ],
      "source": [
        "magnituda = float(input(\"Enter the magnitude \"))\n",
        "if magnituda < 2:\n",
        "    print(\"Micro\")\n",
        "elif magnituda >= 2 and magnituda < 3:\n",
        "    print(\"Very minor\")\n",
        "elif magnituda >= 3 and magnituda < 4:\n",
        "    print(\"Minor\")\n",
        "elif magnituda >= 4 and magnituda < 5:\n",
        "    print(\"Light\")\n",
        "elif magnituda >= 5 and magnituda < 6:\n",
        "    print(\"Moderate\")\n",
        "elif magnituda >= 6 and magnituda < 7:\n",
        "    print(\"Strong\")\n",
        "elif magnituda >= 7 and magnituda < 8:\n",
        "    print(\"Major\")\n",
        "elif magnituda >= 8 and magnituda < 10:\n",
        "    print(\"Great\")\n",
        "else :\n",
        "    print(\"Meteoric\")\n"
      ]
    },
    {
      "cell_type": "markdown",
      "metadata": {
        "id": "X8fC_GM_nMRi"
      },
      "source": [
        "### **Завдання 3 (бонусне, 1 бал)**"
      ]
    },
    {
      "cell_type": "markdown",
      "metadata": {
        "id": "b593txPwotgN"
      },
      "source": [
        "Мобільний оператор розробив тарифний план, згідно з яким, сплачуючи 100 грн. на місяць, абонент може спілкуватись 50 хвилин з абонентами інших мобільних операторів впродовж цього місяця. У разі перевищення ліміту абоненту надаються ще 50 хвилин до кінця місяця за 50 грн. Якщо ж і цей ліміт було перевищено, абонент сплачуватиме 2 грн. за кожну додаткову хвилину розмов до кінця поточного місяця.\n",
        "\n",
        "Напишіть програму, що підраховує суму коштів, яку доведеться сплатити абоненту за місяць, на основі тривалості його розмов з абонентами інших мобільних операторів (у хвилинах), введеної користувачем з клавіатури. Ваша програма також повинна виводити повідомлення про помилку, якщо користувач введе від'ємне число."
      ]
    },
    {
      "cell_type": "code",
      "execution_count": null,
      "metadata": {
        "id": "PA_E_H0Zosu0"
      },
      "outputs": [],
      "source": [
        "minutes = int(input(\"Enter quantity of minutes per mounth \"))\n",
        "pay = 100 \n",
        "if minutes >= 0:\n",
        "    if minutes <= 50 and minutes >= 0:\n",
        "        print(\"You should pay: \", pay, \"грн\")\n",
        "    elif minutes > 50 and minutes <= 100:\n",
        "        pay += 50\n",
        "        print(\"You should pay: \", pay, \"грн\")\n",
        "    else:\n",
        "        differance = minutes - 100\n",
        "        pay = (pay + 50) + differance*2\n",
        "        print(\"You should pay: \", pay, \"грн\")\n",
        "else:\n",
        "    print(\"Enter natural number. Try again\")  \n",
        "\n"
      ]
    },
    {
      "cell_type": "markdown",
      "metadata": {},
      "source": [
        "### **Завдання 4 (1,5 бали)**"
      ]
    },
    {
      "cell_type": "markdown",
      "metadata": {},
      "source": [
        "Продавець роздрібного товару влаштовує розпродаж. Для всіх товарів знижка однакова - 60%. Щоб вивісити нові цінники, продавець хоче скласти таблицю, в якій для кожного товару буде підрахована його нова вартість та сума знижки.\n",
        "\n",
        "Написати програму, яка буде генерувати таку таблицю. Вартість одиниць товарів до розпродажу подано у списку products_list. \n",
        "\n",
        "1. Для підрахунку невідомих значень та їх виведення повинен використовуватись цикл.\n",
        "\n",
        "2. Вартість з урахуванням знижки та суми знижок для кожного товару повинні зберігатись у двох окремих списках. Порядок товарів у нових списках повинен бути такий самий, як і в списку products_list.\n",
        "\n",
        "3. Кожне підраховане числове значення має бути округлене до сотих. Для цього слід використати функцію round(). Приклад застосування цієї функції:\n",
        "\n",
        "```\n",
        "value_new = round(2.3741, 2)\n",
        "print(value_new)\n",
        "```\n",
        "\n",
        "4. Дані повинні виводитись у вигляді:\n",
        "\n",
        "**Discount table:**\n",
        "\n",
        "**29.25 11.7 17.55**\n",
        "\n",
        "**48.99 19.6 29.39**\n",
        "\n",
        "**...**\n",
        "\n",
        "\n",
        "products_list = [29.25, 48.99, 99.98, 124.65, 214.30, 543.90, 799.85]"
      ]
    },
    {
      "cell_type": "code",
      "execution_count": null,
      "metadata": {},
      "outputs": [],
      "source": [
        "products_list = [29.25, 48.99, 99.98, 124.65, 214.30, 543.90, 799.85]\n",
        "price_2 =[]\n",
        "difer = []\n",
        "for x in products_list: \n",
        "    price_2.append(round(x * 0.4, 2))\n",
        "    difer.append(round(x - x * 0.4, 2))\n",
        "for x in range(len(products_list)):\n",
        "    print(products_list[x], price_2[x], difer[x])"
      ]
    },
    {
      "cell_type": "markdown",
      "metadata": {},
      "source": [
        "### **Завдання 5 (1,5 бали)**"
      ]
    },
    {
      "cell_type": "markdown",
      "metadata": {},
      "source": [
        "Перелічуючи деякі предмети у тексті, ми ставимо між ними коми. В англійській мові слово and зазвичай ставлять між останнім та передостаннім словом у переліку (за виключенням випадку, коли у списку всього одне слово). Також в англійській мові прийнято ставити кому перед and (оксфордська кома), якщо в переліку більше двох найменувань. Розглянемо 4 приклади:\n",
        "\n",
        "**apples**\n",
        "\n",
        "**apples and oranges**\n",
        "\n",
        "**apples, oranges, and bananas**\n",
        "\n",
        "**apples, oranges, bananas, and lemons**\n",
        "\n",
        "Напишіть програму, яка:\n",
        "\n",
        "1. отримує на вхід перелік деяких предметів, які користувач вводить з клавіатури, та записує їх у список у вигляді окремих елементів;\n",
        "\n",
        "2. виводить ці предмети у тій самій послідовності, в якій вони були введені, розставляючи коми та слово and так, як показано у прикладі."
      ]
    },
    {
      "cell_type": "code",
      "execution_count": null,
      "metadata": {},
      "outputs": [],
      "source": [
        "list = list(input().split())\n",
        "if len(list) == 1:\n",
        "    print(list[0])\n",
        "elif len(list) == 2:\n",
        "    print(list[0], list[1], sep = \" and \")\n",
        "elif len(list) == 3:\n",
        "    print(list[0,], list[1,], list[3], sep = \" and \")"
      ]
    }
  ],
  "metadata": {
    "colab": {
      "collapsed_sections": [],
      "name": "Pranctice_3_KM-01_<name>.ipynb",
      "provenance": []
    },
    "kernelspec": {
      "display_name": "Python 3",
      "language": "python",
      "name": "python3"
    },
    "language_info": {
      "codemirror_mode": {
        "name": "ipython",
        "version": 3
      },
      "file_extension": ".py",
      "mimetype": "text/x-python",
      "name": "python",
      "nbconvert_exporter": "python",
      "pygments_lexer": "ipython3",
      "version": "3.10.7"
    },
    "vscode": {
      "interpreter": {
        "hash": "838d0000507ae34e45243e0e90a962fe89b901bf8a07094868021c00dd83e714"
      }
    }
  },
  "nbformat": 4,
  "nbformat_minor": 2
}
