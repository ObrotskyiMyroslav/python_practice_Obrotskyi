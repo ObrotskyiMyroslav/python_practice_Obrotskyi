{
  "cells": [
    {
      "cell_type": "markdown",
      "metadata": {
        "id": "FMqboNwO4rVs"
      },
      "source": [
        "# **Курс \"Програмування на мові Python\"**"
      ]
    },
    {
      "cell_type": "markdown",
      "metadata": {
        "id": "A2T6MigL5Z06"
      },
      "source": [
        "## **Практичне зайняття №6**\n",
        "### Тема: \"Робота з кортежами, множинами та словниками\""
      ]
    },
    {
      "cell_type": "markdown",
      "metadata": {
        "id": "4AV5CN7N4xja"
      },
      "source": [
        "### **Завдання 1 (1,5 бали)**\n",
        "\n",
        "Напишіть програму, яка визначала б, чи можна з літер однієї фрази скласти іншу фразу. Наприклад:\n",
        "\n",
        "\"William Shakespeare\" -> \"A small spark\"\n",
        "\n",
        "Перша фраза містить 11 унікальних літер (хоча деякі повторюються): a, e, h, i, k, l, m, p, r, s та w. Друга фраза містить 7 унікальних літер: a, k, l, m, p, r та s. Кожна з літер другої фрази зустрічається принаймні один раз у першій фразі.\n",
        "\n",
        "1. Обидві фрази повинні вводитись користувачем з клавіатури.\n",
        "\n",
        "2. Скористайтесь властивістю множин у мові програмування Python для виділення колекції унікальних літер.\n",
        "\n",
        "3. У множину не повинні потрапити пробіли, розділові знаки та інші символи, що не є літерами (скористайтесь методом **isalpha()**). Також усі літери мають бути переведені в нижній або верхній регістр (скористайтесь методами **lower()** або **upper()**).\n",
        "\n",
        "4. Зверніть увагу на те, що літери як в першій, так і вдругій фразі можуть повторюватись. Однак множина унікальних літер другої фрази повинна бути підмножиною множини унікальних літер першої фрази.\n",
        "\n",
        "5. У складі змістовного повідомлення програма повинна виводити множину літер першої фрази, множину літер другої фрази, а також змістовне повідомлення про те, чи можна скласти з літер першої фрази другу фразу."
      ]
    },
    {
      "cell_type": "code",
      "execution_count": 35,
      "metadata": {
        "id": "9Mesp1jV4xjb"
      },
      "outputs": [
        {
          "name": "stdout",
          "output_type": "stream",
          "text": [
            "{'t', 'h', 'f'}\n",
            "{'f', 't', 'd', 'r', 'h'}\n",
            "No we can`t compose second word using letters from first\n"
          ]
        }
      ],
      "source": [
        "first_phraze = input(\"Enter first word: \" )\n",
        "second_phraze = input(\"Enter second word: \" )\n",
        "while first_phraze.isalpha() and second_phraze.isalpha():\n",
        "    if set(first_phraze) & set(second_phraze) == set(second_phraze):\n",
        "        print(set(first_phraze.lower()))\n",
        "        print(set(second_phraze.lower()))\n",
        "        print(\"Using letters of first word we can compose the second\")\n",
        "    else:\n",
        "        print(set(first_phraze.lower()))\n",
        "        print(set(second_phraze.lower()))\n",
        "        print(\"No we can`t compose second word using letters from first\")\n",
        "    break\n",
        "else:\n",
        "    print(\"You should enter only letters without gap\")\n"
      ]
    },
    {
      "cell_type": "markdown",
      "metadata": {
        "id": "y7pQFLvSCkym"
      },
      "source": [
        "### **Завдання 2 (1,5 бали)**\n"
      ]
    },
    {
      "cell_type": "markdown",
      "metadata": {},
      "source": [
        "\n",
        "У Канаді поштові індекси мають специфічну форму. Вони складаються з трьох символів. Перший символ вказує на провінцію. Другий символ вказує на те, у міській чи у сільській місцевості знаходиться адресат. Якщо у сільській місцевості - це 0. Якщо у міській - будь-яка інша цифра. Провінція позначається великою латинською літерою. Повний перелік провінцій на літер, що їм відповідають, подано у таблиці.\n",
        "\n",
        "Провінція | Перший символ поштового індекса\n",
        "--- | ---\n",
        "Newfoundland | A\n",
        "Nova Scotia | B\n",
        "Prince Edward Island | C\n",
        "New Brunswick | E\n",
        "Quebec | G, H and J\n",
        "Ontario | K, L, M, N and P\n",
        "Manitoba | R\n",
        "Saskatchewan | S\n",
        "Alberta | T\n",
        "British Columbia | V\n",
        "Nunavut | X\n",
        "Northwest Territories | X\n",
        "Yukon | Y\n",
        "\n",
        "Напишіть програму, яка зчитує поштовий індекс, введений користувачем, та виводить у складі змістовного повідомлення провінцію адресата та інформацію про те, у міській чи у сільській місцевості він знаходиться. Наприклад, якщо користувач вводить T2N, програма повинна визначити, що адресат знаходиться у міській місцевості провінції Альберта. Якщо він вводить X0A, адресат знаходиться у сільській місцевості провінції Нанавут або Північних Територій (зверніть увагу на те, що літера X повторюється для двох провінцій). Третя літера для нас неважлива. Зауважте, що літери D, F, I, O, Q, U, W, та Z не позначають жодної з провінцій Канади.\n",
        "\n",
        "1. Скористайтесь словником для збереження усіх провінцій та літер, що їм відповідають.\n",
        "\n",
        "2. Користувач повинен ввести рівно 3 символи. Перший і останній символи мають бути літерами, другий - цифрою. Для перевірки скористайтесь методами **isalpha()** та **isdigit()**. Якщо користувач введе не 3 символи, а більше чи менше, або ж послідовність літер та цифр не буде співпадати з шаблоном, програма має вивести повідомлення про помилку.\n",
        "\n",
        "3. Програма повинна приймати літери як верхнього, так і нижнього регістрів. Однак виводити - лише у верхньому регістрі (скористайтесь методами **lower()** або **upper()**)."
      ]
    },
    {
      "cell_type": "markdown",
      "metadata": {},
      "source": []
    },
    {
      "cell_type": "markdown",
      "metadata": {},
      "source": []
    },
    {
      "cell_type": "code",
      "execution_count": null,
      "metadata": {},
      "outputs": [],
      "source": []
    },
    {
      "cell_type": "code",
      "execution_count": 109,
      "metadata": {
        "id": "EVY800vg4xjg"
      },
      "outputs": [
        {
          "name": "stdout",
          "output_type": "stream",
          "text": [
            "At first Enter letter then number then letter\n",
            "Prince Edward Island\n",
            "Yo are in city area\n"
          ]
        }
      ],
      "source": [
        "dict_1 = {'A': 'Newfoundland',\n",
        "          'B': 'Nova Scotia',\n",
        "          'C': 'Prince Edward Island',\n",
        "          'E': 'New Brunswick',\n",
        "          'G, H and J': 'Quebec',\n",
        "          'K, L, M, N and P':'Ontario',\n",
        "          'R': 'Manitoba',\n",
        "          'S': 'Saskatchewan',\n",
        "          'T': 'Alberta',\n",
        "          'V': 'British Columbia',\n",
        "          'X': 'Nunavut' + 'Northwest Territories',\n",
        "          'Y':'Yukon'}\n",
        "tuple_1 = ('A', 'B', 'C', 'E', 'G', 'H', 'J', 'K', 'L', 'M', 'N', 'P', 'R', 'S', 'T', 'V', 'X', 'Y')\n",
        "try:\n",
        "    a = str(input(\"Enter your first symbol zip code. It must be a letter\" ).upper())\n",
        "    b = int(input(\" \"))\n",
        "    c = str(input(\" \"))\n",
        "except ValueError:\n",
        "    print(\"At first Enter letter then number then letter\")\n",
        "if a in tuple_1:\n",
        "    x = dict_1.get(a)\n",
        "    print(x)\n",
        "if b == 0:\n",
        "    print(\"You are in countryside\")\n",
        "elif b > 0 or b < 0:\n",
        "    print(\"Yo are in city area\")\n",
        "   \n",
        "\n"
      ]
    }
  ],
  "metadata": {
    "colab": {
      "collapsed_sections": [],
      "name": "Practice_5_KM_04_.ipynb",
      "provenance": []
    },
    "kernelspec": {
      "display_name": "Python 3",
      "language": "python",
      "name": "python3"
    },
    "language_info": {
      "codemirror_mode": {
        "name": "ipython",
        "version": 3
      },
      "file_extension": ".py",
      "mimetype": "text/x-python",
      "name": "python",
      "nbconvert_exporter": "python",
      "pygments_lexer": "ipython3",
      "version": "3.10.7 (tags/v3.10.7:6cc6b13, Sep  5 2022, 14:08:36) [MSC v.1933 64 bit (AMD64)]"
    },
    "vscode": {
      "interpreter": {
        "hash": "838d0000507ae34e45243e0e90a962fe89b901bf8a07094868021c00dd83e714"
      }
    }
  },
  "nbformat": 4,
  "nbformat_minor": 2
}
